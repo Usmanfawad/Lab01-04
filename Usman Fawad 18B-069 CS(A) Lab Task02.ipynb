{
 "cells": [
  {
   "cell_type": "markdown",
   "metadata": {},
   "source": [
    "# Q1"
   ]
  },
  {
   "cell_type": "code",
   "execution_count": 5,
   "metadata": {},
   "outputs": [
    {
     "name": "stdout",
     "output_type": "stream",
     "text": [
      "11\n"
     ]
    }
   ],
   "source": [
    "from datetime import date\n",
    "date_1= date(2017, 8, 2)\n",
    "date_2= date(2017, 8, 13)\n",
    "total_days= (date_2 - date_1)\n",
    "print(total_days.days)"
   ]
  },
  {
   "cell_type": "markdown",
   "metadata": {},
   "source": [
    "# Q2"
   ]
  },
  {
   "cell_type": "code",
   "execution_count": 13,
   "metadata": {},
   "outputs": [
    {
     "name": "stdout",
     "output_type": "stream",
     "text": [
      "1.3089969389957472\n"
     ]
    }
   ],
   "source": [
    "from math import pi\n",
    "radians = pi * 75 / 180\n",
    "print(radians)"
   ]
  },
  {
   "cell_type": "code",
   "execution_count": 16,
   "metadata": {},
   "outputs": [
    {
     "name": "stdout",
     "output_type": "stream",
     "text": [
      "15.454813220625093\n"
     ]
    }
   ],
   "source": [
    "import math\n",
    "height = 16 * math.sin(1.3089969389957472)\n",
    "print(height)"
   ]
  },
  {
   "cell_type": "code",
   "execution_count": 17,
   "metadata": {},
   "outputs": [
    {
     "name": "stdout",
     "output_type": "stream",
     "text": [
      "0.0\n"
     ]
    }
   ],
   "source": [
    "from math import pi\n",
    "radians = pi * 0 / 180\n",
    "print(radians)"
   ]
  },
  {
   "cell_type": "code",
   "execution_count": 18,
   "metadata": {},
   "outputs": [
    {
     "name": "stdout",
     "output_type": "stream",
     "text": [
      "0.0\n"
     ]
    }
   ],
   "source": [
    "import math\n",
    "height = 20 * math.sin(0)\n",
    "print(height)"
   ]
  },
  {
   "cell_type": "code",
   "execution_count": 20,
   "metadata": {},
   "outputs": [
    {
     "name": "stdout",
     "output_type": "stream",
     "text": [
      "0.7853981633974483\n"
     ]
    }
   ],
   "source": [
    "from math import pi\n",
    "radians = pi * 45 / 180\n",
    "print(radians)"
   ]
  },
  {
   "cell_type": "code",
   "execution_count": 21,
   "metadata": {},
   "outputs": [
    {
     "name": "stdout",
     "output_type": "stream",
     "text": [
      "16.970562748477143\n"
     ]
    }
   ],
   "source": [
    "import math\n",
    "height = 24 * math.sin(0.7853981633974483)\n",
    "print(height)"
   ]
  },
  {
   "cell_type": "code",
   "execution_count": 22,
   "metadata": {},
   "outputs": [
    {
     "name": "stdout",
     "output_type": "stream",
     "text": [
      "1.3962634015954636\n"
     ]
    }
   ],
   "source": [
    "from math import pi\n",
    "radians = pi * 80 / 180\n",
    "print(radians)"
   ]
  },
  {
   "cell_type": "code",
   "execution_count": 23,
   "metadata": {},
   "outputs": [
    {
     "name": "stdout",
     "output_type": "stream",
     "text": [
      "23.63538607229299\n"
     ]
    }
   ],
   "source": [
    "import math\n",
    "height = 24 * math.sin(1.3962634015954636)\n",
    "print(height)"
   ]
  },
  {
   "cell_type": "markdown",
   "metadata": {},
   "source": [
    "# Q3"
   ]
  },
  {
   "cell_type": "code",
   "execution_count": 24,
   "metadata": {},
   "outputs": [
    {
     "name": "stdout",
     "output_type": "stream",
     "text": [
      "1.6666666666666667\n"
     ]
    }
   ],
   "source": [
    "lst=[0,2,4,6,8]\n",
    "print(len(lst)/3)\n"
   ]
  },
  {
   "cell_type": "code",
   "execution_count": 26,
   "metadata": {},
   "outputs": [
    {
     "name": "stdout",
     "output_type": "stream",
     "text": [
      "2\n"
     ]
    }
   ],
   "source": [
    "print(lst[int(len(lst) / 3)])"
   ]
  },
  {
   "cell_type": "code",
   "execution_count": 31,
   "metadata": {},
   "outputs": [
    {
     "name": "stdout",
     "output_type": "stream",
     "text": [
      "[8, 6, 4, 2, 0]\n"
     ]
    }
   ],
   "source": [
    "lst.sort(reverse=True)\n",
    "print(lst)"
   ]
  },
  {
   "cell_type": "code",
   "execution_count": 32,
   "metadata": {},
   "outputs": [
    {
     "name": "stdout",
     "output_type": "stream",
     "text": [
      "[0, 2, 4, 6, 8]\n"
     ]
    }
   ],
   "source": [
    "lst.sort()\n",
    "print(lst)"
   ]
  },
  {
   "cell_type": "code",
   "execution_count": 34,
   "metadata": {},
   "outputs": [
    {
     "name": "stdout",
     "output_type": "stream",
     "text": [
      "[0, 2, 4, 6, 8]\n"
     ]
    }
   ],
   "source": [
    "print(lst)"
   ]
  },
  {
   "cell_type": "code",
   "execution_count": 36,
   "metadata": {},
   "outputs": [
    {
     "name": "stdout",
     "output_type": "stream",
     "text": [
      "[2, 4, 6, 8, 0]\n"
     ]
    }
   ],
   "source": [
    "lst.remove(0)\n",
    "lst.append(0)\n",
    "print(lst)"
   ]
  },
  {
   "cell_type": "markdown",
   "metadata": {},
   "source": [
    "# Q4"
   ]
  },
  {
   "cell_type": "code",
   "execution_count": 38,
   "metadata": {},
   "outputs": [
    {
     "name": "stdout",
     "output_type": "stream",
     "text": [
      "['jan', 'feb', 'march', 'may']\n",
      "('jan', 'feb', 'march', 'may')\n"
     ]
    }
   ],
   "source": [
    "monthsL= ['jan' , 'feb', 'march', 'may' ]\n",
    "monthsT= ('jan' , 'feb', 'march', 'may' )\n",
    "print(monthsL)\n",
    "print(monthsT)"
   ]
  },
  {
   "cell_type": "code",
   "execution_count": 39,
   "metadata": {},
   "outputs": [],
   "source": [
    "monthsL.append('june')"
   ]
  },
  {
   "cell_type": "code",
   "execution_count": 40,
   "metadata": {},
   "outputs": [
    {
     "name": "stdout",
     "output_type": "stream",
     "text": [
      "['jan', 'feb', 'march', 'may', 'june']\n"
     ]
    }
   ],
   "source": [
    "print(monthsL)"
   ]
  },
  {
   "cell_type": "code",
   "execution_count": 42,
   "metadata": {},
   "outputs": [
    {
     "name": "stdout",
     "output_type": "stream",
     "text": [
      "['jan', 'feb', 'march', 'april', 'may', 'june']\n"
     ]
    }
   ],
   "source": [
    "monthsL.insert(3, 'april')\n",
    "print(monthsL)"
   ]
  },
  {
   "cell_type": "code",
   "execution_count": 43,
   "metadata": {},
   "outputs": [
    {
     "name": "stdout",
     "output_type": "stream",
     "text": [
      "['jan', 'feb', 'march', 'april', 'may', 'june']\n"
     ]
    }
   ],
   "source": [
    "monthsL.pop\n",
    "print(monthsL)"
   ]
  },
  {
   "cell_type": "code",
   "execution_count": 44,
   "metadata": {},
   "outputs": [
    {
     "name": "stdout",
     "output_type": "stream",
     "text": [
      "['jan', 'march', 'april', 'may', 'june']\n"
     ]
    }
   ],
   "source": [
    "monthsL.remove('feb')\n",
    "print(monthsL)"
   ]
  },
  {
   "cell_type": "code",
   "execution_count": 45,
   "metadata": {},
   "outputs": [
    {
     "name": "stdout",
     "output_type": "stream",
     "text": [
      "['june', 'may', 'april', 'march', 'jan']\n"
     ]
    }
   ],
   "source": [
    "monthsL.reverse()\n",
    "print(monthsL)"
   ]
  },
  {
   "cell_type": "markdown",
   "metadata": {},
   "source": [
    "# Q5"
   ]
  },
  {
   "cell_type": "code",
   "execution_count": 1,
   "metadata": {},
   "outputs": [
    {
     "data": {
      "text/plain": [
       "True"
      ]
     },
     "execution_count": 1,
     "metadata": {},
     "output_type": "execute_result"
    }
   ],
   "source": [
    "a= \"anachronistically\"\n",
    "b=\"counterintuitive\"\n",
    "len(a)>len(b)"
   ]
  },
  {
   "cell_type": "code",
   "execution_count": 2,
   "metadata": {},
   "outputs": [
    {
     "name": "stdout",
     "output_type": "stream",
     "text": [
      "False\n"
     ]
    }
   ],
   "source": [
    "order= \"misinterpretation\" > \"misrepresentation\"\n",
    "print(order)\n"
   ]
  },
  {
   "cell_type": "code",
   "execution_count": 3,
   "metadata": {},
   "outputs": [
    {
     "name": "stdout",
     "output_type": "stream",
     "text": [
      "False\n"
     ]
    }
   ],
   "source": [
    "c= \"floccinaucinihilipilification\"\n",
    "print('e' in c)"
   ]
  },
  {
   "cell_type": "code",
   "execution_count": 4,
   "metadata": {},
   "outputs": [
    {
     "data": {
      "text/plain": [
       "True"
      ]
     },
     "execution_count": 4,
     "metadata": {},
     "output_type": "execute_result"
    }
   ],
   "source": [
    "d= \"counterrevolution\"\n",
    "e= \"counter\"\n",
    "f= \"resolution\"\n",
    "len(d)==len(e)+len(f)"
   ]
  },
  {
   "cell_type": "markdown",
   "metadata": {},
   "source": [
    "# Q6"
   ]
  },
  {
   "cell_type": "code",
   "execution_count": 5,
   "metadata": {},
   "outputs": [
    {
     "name": "stdout",
     "output_type": "stream",
     "text": [
      "6.5\n"
     ]
    }
   ],
   "source": [
    "a= 6\n",
    "b= 7\n",
    "c= (a+b)/2\n",
    "print(c)"
   ]
  },
  {
   "cell_type": "code",
   "execution_count": 7,
   "metadata": {},
   "outputs": [
    {
     "name": "stdout",
     "output_type": "stream",
     "text": [
      "['paper', 'staples', 'pencils']\n"
     ]
    }
   ],
   "source": [
    "inventory= ['paper', 'staples', 'pencils']\n",
    "print(inventory)"
   ]
  },
  {
   "cell_type": "code",
   "execution_count": 8,
   "metadata": {},
   "outputs": [
    {
     "name": "stdout",
     "output_type": "stream",
     "text": [
      "John Fitzgerald Kennedy\n"
     ]
    }
   ],
   "source": [
    "first_name= 'John'\n",
    "middle_name= 'Fitzgerald'\n",
    "last_name= 'Kennedy'\n",
    "full_name= (first_name + ' ' + middle_name + ' ' + last_name)\n",
    "print(full_name)"
   ]
  },
  {
   "cell_type": "markdown",
   "metadata": {},
   "source": [
    "# Q7"
   ]
  },
  {
   "cell_type": "code",
   "execution_count": 6,
   "metadata": {},
   "outputs": [
    {
     "name": "stdout",
     "output_type": "stream",
     "text": [
      "Enter the value of x co-ordinate: 0\n",
      "Enter the value of y co-ordinate: 0\n",
      "0.0\n",
      "hit\n"
     ]
    }
   ],
   "source": [
    "x= int(input(\"Enter the value of x co-ordinate: \"))\n",
    "y= int(input(\"Enter the value of y co-ordinate: \"))\n",
    "radius= 10\n",
    "import math\n",
    "dist= math.sqrt(x*x + y*y)\n",
    "print(dist)\n",
    "if dist< radius:\n",
    "    print(\"hit\")\n",
    "else:\n",
    "    print(\"miss\")"
   ]
  },
  {
   "cell_type": "code",
   "execution_count": 3,
   "metadata": {},
   "outputs": [
    {
     "name": "stdout",
     "output_type": "stream",
     "text": [
      "Enter the value of x co-ordinate: 10\n",
      "Enter the value of y co-ordinate: 10\n",
      "14.142135623730951\n",
      "miss\n"
     ]
    }
   ],
   "source": [
    "x= int(input(\"Enter the value of x co-ordinate: \"))\n",
    "y= int(input(\"Enter the value of y co-ordinate: \"))\n",
    "radius= 10\n",
    "import math\n",
    "dist= math.sqrt(x*x + y*y)\n",
    "print(dist)\n",
    "if dist< radius:\n",
    "    print(\"hit\")\n",
    "else:\n",
    "    print(\"miss\")"
   ]
  },
  {
   "cell_type": "code",
   "execution_count": 4,
   "metadata": {},
   "outputs": [
    {
     "name": "stdout",
     "output_type": "stream",
     "text": [
      "Enter the value of x co-ordinate: 6\n",
      "Enter the value of y co-ordinate: 6\n",
      "8.48528137423857\n",
      "hit\n"
     ]
    }
   ],
   "source": [
    "x= int(input(\"Enter the value of x co-ordinate: \"))\n",
    "y= int(input(\"Enter the value of y co-ordinate: \"))\n",
    "radius= 10\n",
    "import math\n",
    "dist= math.sqrt(x*x + y*y)\n",
    "print(dist)\n",
    "if dist< radius:\n",
    "    print(\"hit\")\n",
    "else:\n",
    "    print(\"miss\")"
   ]
  },
  {
   "cell_type": "code",
   "execution_count": 5,
   "metadata": {},
   "outputs": [
    {
     "name": "stdout",
     "output_type": "stream",
     "text": [
      "Enter the value of x co-ordinate: 7\n",
      "Enter the value of y co-ordinate: 8\n",
      "10.63014581273465\n",
      "miss\n"
     ]
    }
   ],
   "source": [
    "x= int(input(\"Enter the value of x co-ordinate: \"))\n",
    "y= int(input(\"Enter the value of y co-ordinate: \"))\n",
    "radius= 10\n",
    "import math\n",
    "dist= math.sqrt(x*x + y*y)\n",
    "print(dist)\n",
    "if dist< radius:\n",
    "    print(\"hit\")\n",
    "else:\n",
    "    print(\"miss\")"
   ]
  },
  {
   "cell_type": "code",
   "execution_count": null,
   "metadata": {},
   "outputs": [],
   "source": []
  }
 ],
 "metadata": {
  "kernelspec": {
   "display_name": "Python 3",
   "language": "python",
   "name": "python3"
  },
  "language_info": {
   "codemirror_mode": {
    "name": "ipython",
    "version": 3
   },
   "file_extension": ".py",
   "mimetype": "text/x-python",
   "name": "python",
   "nbconvert_exporter": "python",
   "pygments_lexer": "ipython3",
   "version": "3.7.0"
  }
 },
 "nbformat": 4,
 "nbformat_minor": 2
}
