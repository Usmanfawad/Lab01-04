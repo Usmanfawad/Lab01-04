{
 "cells": [
  {
   "cell_type": "code",
   "execution_count": 8,
   "metadata": {},
   "outputs": [
    {
     "name": "stdout",
     "output_type": "stream",
     "text": [
      "Enter the value in degree celcius 45\n",
      "113.0 Is the value in Degree fahrenheit \n"
     ]
    }
   ],
   "source": [
    "x= int(input(\"Enter the value in degree celcius \"))\n",
    "y= str((x*9/5)+32)\n",
    "print(str(y) + \" Is the value in Degree fahrenheit \")"
   ]
  },
  {
   "cell_type": "code",
   "execution_count": 12,
   "metadata": {},
   "outputs": [
    {
     "name": "stdout",
     "output_type": "stream",
     "text": [
      "Enter the lenght of rectangle 3\n",
      "Enter the width of rectangle 5\n",
      "The area of rectangle is 15\n"
     ]
    }
   ],
   "source": [
    "input_lenght= int(input(\"Enter the lenght of rectangle \"))\n",
    "input_width= int(input(\"Enter the width of rectangle \"))\n",
    "area_rectangle= (input_lenght*input_width)\n",
    "print(\"The area of rectangle is \" + str(area_rectangle))"
   ]
  },
  {
   "cell_type": "code",
   "execution_count": 23,
   "metadata": {},
   "outputs": [
    {
     "name": "stdout",
     "output_type": "stream",
     "text": [
      "Enter radius of sphere 2\n",
      "The volume of sphere with radius 2 is 33.510321638291124\n"
     ]
    }
   ],
   "source": [
    "from math import pi\n",
    "x= int(input(\"Enter radius of sphere \"))\n",
    "print(\"The volume of sphere with radius \" + str(x) + \" is \" + str( 4/3 * pi* x**3))"
   ]
  },
  {
   "cell_type": "code",
   "execution_count": 25,
   "metadata": {},
   "outputs": [
    {
     "name": "stdout",
     "output_type": "stream",
     "text": [
      "Please enter your name usman\n",
      "USMAN\n",
      "usman\n",
      "Usman\n"
     ]
    }
   ],
   "source": [
    "input_name= input(\"Please enter your name \")\n",
    "print(input_name.upper())\n",
    "print(input_name.lower())\n",
    "print(input_name.title())"
   ]
  },
  {
   "cell_type": "code",
   "execution_count": 28,
   "metadata": {},
   "outputs": [
    {
     "name": "stdout",
     "output_type": "stream",
     "text": [
      "Enter the temperature in degree fahrenheit 60\n",
      "The temperature in degree celcius is 15.555555555555555\n"
     ]
    }
   ],
   "source": [
    "x=int(input(\"Enter the temperature in degree fahrenheit \"))\n",
    "y= str((x-32)* 5/9)\n",
    "print(\"The temperature in degree celcius is \" + y ) "
   ]
  },
  {
   "cell_type": "code",
   "execution_count": null,
   "metadata": {},
   "outputs": [],
   "source": []
  }
 ],
 "metadata": {
  "kernelspec": {
   "display_name": "Python 3",
   "language": "python",
   "name": "python3"
  },
  "language_info": {
   "codemirror_mode": {
    "name": "ipython",
    "version": 3
   },
   "file_extension": ".py",
   "mimetype": "text/x-python",
   "name": "python",
   "nbconvert_exporter": "python",
   "pygments_lexer": "ipython3",
   "version": "3.7.0"
  }
 },
 "nbformat": 4,
 "nbformat_minor": 2
}
